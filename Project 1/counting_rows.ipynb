{
 "cells": [
  {
   "cell_type": "code",
   "execution_count": 1,
   "id": "fbd3b6ba",
   "metadata": {},
   "outputs": [],
   "source": [
    "import pandas as pd "
   ]
  },
  {
   "cell_type": "code",
   "execution_count": 8,
   "id": "a9523204",
   "metadata": {},
   "outputs": [
    {
     "name": "stderr",
     "output_type": "stream",
     "text": [
      "C:\\Users\\patri\\AppData\\Local\\Temp\\ipykernel_18664\\1278085068.py:4: DtypeWarning: Columns (5,6) have mixed types. Specify dtype option on import or set low_memory=False.\n",
      "  conditions = pd.read_csv(\"EHRShot/sampled_condition_occurrence.csv\")\n"
     ]
    }
   ],
   "source": [
    "people = pd.read_csv(\"EHRShot/sampled_person.csv\")\n",
    "deaths = pd.read_csv(\"EHRShot/sampled_death.csv\")\n",
    "sites = pd.read_csv(\"EHRShot/care_site.csv\")\n",
    "conditions = pd.read_csv(\"EHRShot/sampled_condition_occurrence.csv\")"
   ]
  },
  {
   "cell_type": "code",
   "execution_count": null,
   "id": "9621893e",
   "metadata": {},
   "outputs": [
    {
     "data": {
      "text/html": [
       "<div>\n",
       "<style scoped>\n",
       "    .dataframe tbody tr th:only-of-type {\n",
       "        vertical-align: middle;\n",
       "    }\n",
       "\n",
       "    .dataframe tbody tr th {\n",
       "        vertical-align: top;\n",
       "    }\n",
       "\n",
       "    .dataframe thead th {\n",
       "        text-align: right;\n",
       "    }\n",
       "</style>\n",
       "<table border=\"1\" class=\"dataframe\">\n",
       "  <thead>\n",
       "    <tr style=\"text-align: right;\">\n",
       "      <th></th>\n",
       "      <th>care_site_id</th>\n",
       "      <th>care_site_name</th>\n",
       "      <th>place_of_service_concept_id</th>\n",
       "      <th>location_id</th>\n",
       "      <th>care_site_source_value</th>\n",
       "      <th>place_of_service_source_value</th>\n",
       "      <th>trace_id</th>\n",
       "      <th>unit_id</th>\n",
       "      <th>load_table_id</th>\n",
       "    </tr>\n",
       "  </thead>\n",
       "  <tbody>\n",
       "    <tr>\n",
       "      <th>70</th>\n",
       "      <td>529546</td>\n",
       "      <td>ICU</td>\n",
       "      <td>8756</td>\n",
       "      <td>8646458</td>\n",
       "      <td>110100006</td>\n",
       "      <td>On Campus - Outpatient Hospital</td>\n",
       "      <td>NaN</td>\n",
       "      <td>NaN</td>\n",
       "      <td>shc_clarity_dep</td>\n",
       "    </tr>\n",
       "    <tr>\n",
       "      <th>71</th>\n",
       "      <td>529617</td>\n",
       "      <td>INTENSIVE CARE</td>\n",
       "      <td>8756</td>\n",
       "      <td>11352401</td>\n",
       "      <td>20026201</td>\n",
       "      <td>On Campus - Outpatient Hospital</td>\n",
       "      <td>NaN</td>\n",
       "      <td>NaN</td>\n",
       "      <td>shc_clarity_dep</td>\n",
       "    </tr>\n",
       "    <tr>\n",
       "      <th>213</th>\n",
       "      <td>529578</td>\n",
       "      <td>ICU</td>\n",
       "      <td>8756</td>\n",
       "      <td>10178563</td>\n",
       "      <td>110100002</td>\n",
       "      <td>On Campus - Outpatient Hospital</td>\n",
       "      <td>NaN</td>\n",
       "      <td>NaN</td>\n",
       "      <td>shc_clarity_dep</td>\n",
       "    </tr>\n",
       "    <tr>\n",
       "      <th>451</th>\n",
       "      <td>527995</td>\n",
       "      <td>PEDIATRIC INTENSIVE CARE</td>\n",
       "      <td>0</td>\n",
       "      <td>11101381</td>\n",
       "      <td>9991085</td>\n",
       "      <td>NaN</td>\n",
       "      <td>NaN</td>\n",
       "      <td>NaN</td>\n",
       "      <td>shc_clarity_dep</td>\n",
       "    </tr>\n",
       "    <tr>\n",
       "      <th>508</th>\n",
       "      <td>527283</td>\n",
       "      <td>INTENSIVE CARE</td>\n",
       "      <td>0</td>\n",
       "      <td>10537544</td>\n",
       "      <td>10201253</td>\n",
       "      <td>NaN</td>\n",
       "      <td>NaN</td>\n",
       "      <td>NaN</td>\n",
       "      <td>lpch_clarity_dep</td>\n",
       "    </tr>\n",
       "  </tbody>\n",
       "</table>\n",
       "</div>"
      ],
      "text/plain": [
       "     care_site_id            care_site_name  place_of_service_concept_id  \\\n",
       "70         529546                       ICU                         8756   \n",
       "71         529617            INTENSIVE CARE                         8756   \n",
       "213        529578                       ICU                         8756   \n",
       "451        527995  PEDIATRIC INTENSIVE CARE                            0   \n",
       "508        527283            INTENSIVE CARE                            0   \n",
       "\n",
       "     location_id  care_site_source_value    place_of_service_source_value  \\\n",
       "70       8646458               110100006  On Campus - Outpatient Hospital   \n",
       "71      11352401                20026201  On Campus - Outpatient Hospital   \n",
       "213     10178563               110100002  On Campus - Outpatient Hospital   \n",
       "451     11101381                 9991085                              NaN   \n",
       "508     10537544                10201253                              NaN   \n",
       "\n",
       "     trace_id  unit_id     load_table_id  \n",
       "70        NaN      NaN   shc_clarity_dep  \n",
       "71        NaN      NaN   shc_clarity_dep  \n",
       "213       NaN      NaN   shc_clarity_dep  \n",
       "451       NaN      NaN   shc_clarity_dep  \n",
       "508       NaN      NaN  lpch_clarity_dep  "
      ]
     },
     "execution_count": 6,
     "metadata": {},
     "output_type": "execute_result"
    }
   ],
   "source": [
    "# use regex to match ICU/\"intensive care\"\n",
    "pattern = r'\\bICU\\b|intensive care'\n",
    "mask = sites['care_site_name'].fillna('').str.contains(pattern, case=False, regex=True)\n",
    "icus = sites.loc[mask].copy()\n",
    "\n",
    "icus.head()"
   ]
  },
  {
   "cell_type": "code",
   "execution_count": 12,
   "id": "ff41c6ab",
   "metadata": {},
   "outputs": [
    {
     "name": "stdout",
     "output_type": "stream",
     "text": [
      "People total: 2000, People in ICUs: 0\n"
     ]
    }
   ],
   "source": [
    "# find persons whose care_site is in the ICUs list\n",
    "#! not working\n",
    "mask = people['care_site_id'].isin(set(icus['care_site_id']))\n",
    "people_in_icus = people.loc[mask].copy()\n",
    "\n",
    "print(f'People total: {len(people)}, People in ICUs: {mask.sum()}')"
   ]
  },
  {
   "cell_type": "code",
   "execution_count": 13,
   "id": "6d746f75",
   "metadata": {},
   "outputs": [
    {
     "name": "stdout",
     "output_type": "stream",
     "text": [
      "Conditions total: 761822, Conditions with deaths: 175475\n",
      "People total: 2000, People suffering death: 207\n"
     ]
    }
   ],
   "source": [
    "# find conditions where the person has an associated record in deaths\n",
    "mask = conditions['person_id'].isin(set(deaths['person_id']))\n",
    "conditions_with_deaths = conditions.loc[mask].copy()\n",
    "\n",
    "print(f'Conditions total: {len(conditions)}, Conditions with deaths: {mask.sum()}')\n",
    "print(f'People total: {len(people)}, People suffering death: {len(set(conditions_with_deaths[\"person_id\"]))}')"
   ]
  }
 ],
 "metadata": {
  "kernelspec": {
   "display_name": ".venv (3.12.1)",
   "language": "python",
   "name": "python3"
  },
  "language_info": {
   "codemirror_mode": {
    "name": "ipython",
    "version": 3
   },
   "file_extension": ".py",
   "mimetype": "text/x-python",
   "name": "python",
   "nbconvert_exporter": "python",
   "pygments_lexer": "ipython3",
   "version": "3.12.1"
  }
 },
 "nbformat": 4,
 "nbformat_minor": 5
}
