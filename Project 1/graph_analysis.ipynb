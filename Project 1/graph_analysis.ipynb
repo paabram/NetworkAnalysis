{
 "cells": [
  {
   "cell_type": "code",
   "execution_count": 1,
   "id": "219cbae9",
   "metadata": {},
   "outputs": [],
   "source": [
    "import pandas as pd\n",
    "import networkx as nx\n",
    "import plotly.graph_objects as go\n",
    "from networkx.algorithms.community import louvain_communities\n",
    "import numpy as np"
   ]
  },
  {
   "cell_type": "code",
   "execution_count": 2,
   "id": "a588893c",
   "metadata": {},
   "outputs": [],
   "source": [
    "# load edge list\n",
    "df = pd.read_csv('edges.csv')\n",
    "\n",
    "# build weighted graph\n",
    "G = nx.Graph()\n",
    "edges = [(row['concept_A'], row['concept_B'], row['n_people']) for _, row in df.iterrows()]\n",
    "G.add_weighted_edges_from(edges)"
   ]
  },
  {
   "cell_type": "code",
   "execution_count": 3,
   "id": "97dbb4a1",
   "metadata": {},
   "outputs": [
    {
     "name": "stdout",
     "output_type": "stream",
     "text": [
      "Total conditions: 200\n",
      "Total co-occurences: 5677\n",
      "Network density: 0.2853\n",
      "Is connected: True\n"
     ]
    }
   ],
   "source": [
    "# basic graph statistics\n",
    "print(f\"Total conditions: {G.number_of_nodes()}\")\n",
    "print(f\"Total co-occurences: {G.number_of_edges()}\")\n",
    "print(f\"Network density: {nx.density(G):.4f}\")\n",
    "print(f\"Is connected: {nx.is_connected(G)}\")"
   ]
  },
  {
   "cell_type": "markdown",
   "id": "e78c43ef",
   "metadata": {},
   "source": [
    "<h1>1. Centrality analysis  </h1>\n",
    "Analyze nodes by weighted degree centrality and betweenness centrality. Nodes with high degree co-occur with many other conditions, especially when they co-occur in a larger number of patients. Nodes with high betweenness serve as bridges between different co-occurrences, indicating that their development may be associated with a new set of potential co-occurrences. "
   ]
  },
  {
   "cell_type": "code",
   "execution_count": 4,
   "id": "9a9277fd",
   "metadata": {},
   "outputs": [],
   "source": [
    "# compute node centralities\n",
    "degree_centrality = dict(G.degree(weight='weight'))\n",
    "betweenness_centrality = nx.betweenness_centrality(G, weight='weight')\n",
    "betweenness_centrality = nx.betweenness_centrality(G, weight='weight')"
   ]
  },
  {
   "cell_type": "code",
   "execution_count": 5,
   "id": "6b559349",
   "metadata": {},
   "outputs": [
    {
     "name": "stdout",
     "output_type": "stream",
     "text": [
      "20 conditions with most widespread co-occurrence:\n",
      "\n",
      " 1. Dyspnea                                            | Weighted Centrality: 435 | # Connections: 171\n",
      " 2. Pleural effusion                                   | Weighted Centrality: 435 | # Connections: 171\n",
      " 3. Anemia                                             | Weighted Centrality: 434 | # Connections: 174\n",
      " 4. Electrocardiogram abnormal                         | Weighted Centrality: 370 | # Connections: 152\n",
      " 5. Abdominal pain                                     | Weighted Centrality: 367 | # Connections: 144\n",
      " 6. Cardiac arrhythmia                                 | Weighted Centrality: 367 | # Connections: 144\n",
      " 7. Chest pain                                         | Weighted Centrality: 362 | # Connections: 149\n",
      " 8. Nausea and vomiting                                | Weighted Centrality: 362 | # Connections: 149\n",
      " 9. Constipation                                       | Weighted Centrality: 362 | # Connections: 151\n",
      "10. Tachycardia                                        | Weighted Centrality: 343 | # Connections: 142\n",
      "11. Fever                                              | Weighted Centrality: 335 | # Connections: 141\n",
      "12. Retention of urine                                 | Weighted Centrality: 303 | # Connections: 130\n",
      "13. Nausea                                             | Weighted Centrality: 301 | # Connections: 121\n",
      "14. Disorder of brain                                  | Weighted Centrality: 298 | # Connections: 130\n",
      "15. Thrombocytopenic disorder                          | Weighted Centrality: 291 | # Connections: 115\n",
      "16. Essential hypertension                             | Weighted Centrality: 275 | # Connections: 120\n",
      "17. Pain due to neoplastic disease                     | Weighted Centrality: 273 | # Connections: 118\n",
      "18. Sepsis                                             | Weighted Centrality: 261 | # Connections: 107\n",
      "19. Abnormal findings on diagnostic imaging of lung    | Weighted Centrality: 250 | # Connections: 110\n",
      "20. Illness                                            | Weighted Centrality: 250 | # Connections: 110\n"
     ]
    }
   ],
   "source": [
    "# show top 20 diseases by degree centrality\n",
    "print(\"20 conditions with most widespread co-occurrence:\\n\")\n",
    "sorted_degree = sorted(degree_centrality.items(), key=lambda x: x[1], reverse=True)\n",
    "for i, (node, cent) in enumerate(sorted_degree[:20], 1):\n",
    "    degree = G.degree(node)\n",
    "    print(f\"{i:2d}. {node:50s} | Weighted Centrality: {cent} | # Connections: {degree}\")"
   ]
  },
  {
   "cell_type": "code",
   "execution_count": 6,
   "id": "f4343beb",
   "metadata": {},
   "outputs": [
    {
     "name": "stdout",
     "output_type": "stream",
     "text": [
      "20 conditions that most strongly bridge different comorbidity groups)\n",
      "\n",
      " 1. Anemia                                             | Centrality: 0.0581\n",
      " 2. Constipation                                       | Centrality: 0.0362\n",
      " 3. Dyspnea                                            | Centrality: 0.0311\n",
      " 4. Pleural effusion                                   | Centrality: 0.0311\n",
      " 5. Fever                                              | Centrality: 0.0276\n",
      " 6. Abdominal pain                                     | Centrality: 0.0270\n",
      " 7. Cardiac arrhythmia                                 | Centrality: 0.0270\n",
      " 8. Electrocardiogram abnormal                         | Centrality: 0.0254\n",
      " 9. Retention of urine                                 | Centrality: 0.0224\n",
      "10. Tachycardia                                        | Centrality: 0.0217\n",
      "11. Thrombocytopenic disorder                          | Centrality: 0.0215\n",
      "12. Chest pain                                         | Centrality: 0.0212\n",
      "13. Nausea and vomiting                                | Centrality: 0.0212\n",
      "14. Disorder of brain                                  | Centrality: 0.0167\n",
      "15. Sepsis                                             | Centrality: 0.0156\n",
      "16. Headache                                           | Centrality: 0.0144\n",
      "17. Essential hypertension                             | Centrality: 0.0141\n",
      "18. Nausea                                             | Centrality: 0.0130\n",
      "19. Pain due to neoplastic disease                     | Centrality: 0.0125\n",
      "20. Abnormal findings on diagnostic imaging of lung    | Centrality: 0.0115\n"
     ]
    }
   ],
   "source": [
    "print(\"20 conditions that most strongly bridge different comorbidity groups)\\n\")\n",
    "sorted_betweenness = sorted(betweenness_centrality.items(), key=lambda x: x[1], reverse=True)\n",
    "for i, (node, cent) in enumerate(sorted_betweenness[:20], 1):\n",
    "    print(f\"{i:2d}. {node:50s} | Centrality: {cent:.4f}\")"
   ]
  },
  {
   "cell_type": "markdown",
   "id": "51522004",
   "metadata": {},
   "source": [
    "<h1>2. First-level community analysis</h1>"
   ]
  },
  {
   "cell_type": "code",
   "execution_count": 7,
   "id": "7abbc8e5",
   "metadata": {},
   "outputs": [],
   "source": [
    "# apply Louvain community detection algorithm\n",
    "# search a range of resolution values to find best modularity\n",
    "best_R = 0.0\n",
    "best_mod = -1.0\n",
    "for R in np.arange(0.0, 3.1, 0.1):\n",
    "    comms = louvain_communities(G, weight='weight', seed = 42, resolution=R)\n",
    "    mod = nx.algorithms.community.modularity(G, comms, weight='weight')\n",
    "    if mod > best_mod:\n",
    "        best_mod = mod\n",
    "        best_R = R\n",
    "\n",
    "# apply most optimal resolution to get main communities\n",
    "main_communities = louvain_communities(G, weight='weight', seed=42, resolution=best_R)\n",
    "\n",
    "# create map of condition node to main community\n",
    "main_community_map = {}\n",
    "for idx, community in enumerate(main_communities):\n",
    "    for node in community:\n",
    "        main_community_map[node] = idx"
   ]
  },
  {
   "cell_type": "code",
   "execution_count": 8,
   "id": "e0bc1ad1",
   "metadata": {},
   "outputs": [
    {
     "name": "stdout",
     "output_type": "stream",
     "text": [
      "Number of main communities detected: 4\n",
      "Modularity score: 0.2903\n",
      "\n",
      "Main community sizes:\n",
      "  Community 3: 89 conditions\n",
      "  Community 0: 53 conditions\n",
      "  Community 1: 43 conditions\n",
      "  Community 2: 15 conditions\n"
     ]
    }
   ],
   "source": [
    "# calculate modularity of partition\n",
    "modularity = nx.algorithms.community.modularity(G, main_communities, weight='weight')\n",
    "print(f\"Number of main communities detected: {len(main_communities)}\")\n",
    "print(f\"Modularity score: {modularity:.4f}\\n\")\n",
    "\n",
    "main_community_sizes = sorted([(i, len(comm)) for i, comm in enumerate(main_communities)], \n",
    "                               key=lambda x: x[1], reverse=True)\n",
    "print(\"Main community sizes:\")\n",
    "for comm_id, size in main_community_sizes:\n",
    "    print(f\"  Community {comm_id}: {size} conditions\")"
   ]
  },
  {
   "cell_type": "markdown",
   "id": "5890b20b",
   "metadata": {},
   "source": [
    "<h1>3. Sub-communities within main communities</h1>"
   ]
  },
  {
   "cell_type": "code",
   "execution_count": 9,
   "id": "3907aff5",
   "metadata": {},
   "outputs": [],
   "source": [
    "# functionalize subcommunity processing to be used in the cell below\n",
    "def process_subcommunity(nodes, subcom_id):\n",
    "    subcom_nodes = list(nodes)\n",
    "    # assign nodes to the subcommunity map\n",
    "    for node in subcom_nodes:\n",
    "        subcommunity_map[node] = subcom_id\n",
    "\n",
    "    # compute average centralities\n",
    "    subcom_degree_avg = np.mean([degree_centrality[n] for n in subcom_nodes])\n",
    "    subcom_between_avg = np.mean([betweenness_centrality[n] for n in subcom_nodes])\n",
    "\n",
    "    # nodes will be sorted by degree centrality\n",
    "    sorted_nodes = sorted(subcom_nodes, key=lambda x: degree_centrality[x], reverse=True)\n",
    "\n",
    "    # print summary\n",
    "    print(f\"  Sub-community {subcom_id} ({len(subcom_nodes)} nodes):\")\n",
    "    print(f\"    Avg degree centrality: {subcom_degree_avg:.4f}\")\n",
    "    print(f\"    Avg betweenness centrality: {subcom_between_avg:.4f}\")\n",
    "    # show up to 10 top nodes\n",
    "    print(\"    Top representative nodes:\")\n",
    "    i = 0\n",
    "    while i < min(10, len(sorted_nodes)):\n",
    "        print(f\"      - {sorted_nodes[i]}\")\n",
    "        i += 1\n",
    "\n",
    "    # append structured info\n",
    "    subcommunity_info.append({\n",
    "        'main_comm': main_comm_id,\n",
    "        'sub_comm': subcom_id,\n",
    "        'size': len(subcom_nodes),\n",
    "        'top_nodes': top_nodes,\n",
    "        'avg_degree': subcom_degree_avg,\n",
    "        'avg_betweenness': subcom_between_avg\n",
    "    })\n",
    "\n",
    "    print()"
   ]
  },
  {
   "cell_type": "code",
   "execution_count": 10,
   "id": "0b9129df",
   "metadata": {},
   "outputs": [
    {
     "name": "stdout",
     "output_type": "stream",
     "text": [
      "Main Community 3 (89 nodes):\n",
      "----------------------------------------------------------------------\n",
      "  Found 4 sub-communities (modularity: 0.203)\n",
      "\n",
      "  Sub-community 3.0 (26 nodes):\n",
      "    Avg degree centrality: 90.4615\n",
      "    Avg betweenness centrality: 0.0021\n",
      "    Top representative nodes:\n",
      "      - Thrombocytopenic disorder\n",
      "      - Diarrhea\n",
      "      - Severe sepsis\n",
      "      - Seizure\n",
      "      - Chronic pain\n",
      "      - Flatulence, eructation and gas pain\n",
      "      - Bacteremia\n",
      "      - Infectious disease carrier\n",
      "      - Infective pneumonia\n",
      "      - Disturbance of consciousness\n"
     ]
    },
    {
     "ename": "NameError",
     "evalue": "name 'top_nodes' is not defined",
     "output_type": "error",
     "traceback": [
      "\u001b[31m---------------------------------------------------------------------------\u001b[39m",
      "\u001b[31mNameError\u001b[39m                                 Traceback (most recent call last)",
      "\u001b[36mCell\u001b[39m\u001b[36m \u001b[39m\u001b[32mIn[10]\u001b[39m\u001b[32m, line 43\u001b[39m\n\u001b[32m     41\u001b[39m \u001b[38;5;28;01mfor\u001b[39;00m sub_idx, (original_idx, subcom) \u001b[38;5;129;01min\u001b[39;00m \u001b[38;5;28menumerate\u001b[39m(sorted_subcoms):\n\u001b[32m     42\u001b[39m     subcom_id = \u001b[33mf\u001b[39m\u001b[33m\"\u001b[39m\u001b[38;5;132;01m{\u001b[39;00mmain_comm_id\u001b[38;5;132;01m}\u001b[39;00m\u001b[33m.\u001b[39m\u001b[38;5;132;01m{\u001b[39;00msub_idx\u001b[38;5;132;01m}\u001b[39;00m\u001b[33m\"\u001b[39m\n\u001b[32m---> \u001b[39m\u001b[32m43\u001b[39m     \u001b[43mprocess_subcommunity\u001b[49m\u001b[43m(\u001b[49m\u001b[43msubcom\u001b[49m\u001b[43m,\u001b[49m\u001b[43m \u001b[49m\u001b[43msubcom_id\u001b[49m\u001b[43m)\u001b[49m\n",
      "\u001b[36mCell\u001b[39m\u001b[36m \u001b[39m\u001b[32mIn[9]\u001b[39m\u001b[32m, line 31\u001b[39m, in \u001b[36mprocess_subcommunity\u001b[39m\u001b[34m(nodes, subcom_id)\u001b[39m\n\u001b[32m     24\u001b[39m     i += \u001b[32m1\u001b[39m\n\u001b[32m     26\u001b[39m \u001b[38;5;66;03m# append structured info\u001b[39;00m\n\u001b[32m     27\u001b[39m subcommunity_info.append({\n\u001b[32m     28\u001b[39m     \u001b[33m'\u001b[39m\u001b[33mmain_comm\u001b[39m\u001b[33m'\u001b[39m: main_comm_id,\n\u001b[32m     29\u001b[39m     \u001b[33m'\u001b[39m\u001b[33msub_comm\u001b[39m\u001b[33m'\u001b[39m: subcom_id,\n\u001b[32m     30\u001b[39m     \u001b[33m'\u001b[39m\u001b[33msize\u001b[39m\u001b[33m'\u001b[39m: \u001b[38;5;28mlen\u001b[39m(subcom_nodes),\n\u001b[32m---> \u001b[39m\u001b[32m31\u001b[39m     \u001b[33m'\u001b[39m\u001b[33mtop_nodes\u001b[39m\u001b[33m'\u001b[39m: \u001b[43mtop_nodes\u001b[49m,\n\u001b[32m     32\u001b[39m     \u001b[33m'\u001b[39m\u001b[33mavg_degree\u001b[39m\u001b[33m'\u001b[39m: subcom_degree_avg,\n\u001b[32m     33\u001b[39m     \u001b[33m'\u001b[39m\u001b[33mavg_betweenness\u001b[39m\u001b[33m'\u001b[39m: subcom_between_avg\n\u001b[32m     34\u001b[39m })\n\u001b[32m     36\u001b[39m \u001b[38;5;28mprint\u001b[39m()\n",
      "\u001b[31mNameError\u001b[39m: name 'top_nodes' is not defined"
     ]
    }
   ],
   "source": [
    "# prepare to store sub-community information\n",
    "subcommunity_map = {}\n",
    "subcommunity_counter = 0\n",
    "subcommunity_info = []\n",
    "\n",
    "# iterate over main communities\n",
    "for main_comm_id, size in main_community_sizes:\n",
    "    if size < 20:  # don't subdivide very small communities\n",
    "        print(f\"Main Community {main_comm_id} ({size} nodes): Too small to subdivide\\n\")\n",
    "        # process the whole community as one sub-community x.0\n",
    "        nodes = main_communities[main_comm_id]\n",
    "        process_subcommunity(nodes, f\"{main_comm_id}.0\")\n",
    "        continue\n",
    "    \n",
    "    print(f\"Main Community {main_comm_id} ({size} nodes):\")\n",
    "    print(\"-\" * 70)\n",
    "    \n",
    "    # extract subgraph for this community\n",
    "    subgraph = G.subgraph(main_communities[main_comm_id]).copy()\n",
    "    \n",
    "    # search a range of resolution values to find best modularity\n",
    "    best_R = 1.0\n",
    "    best_mod = -1.0\n",
    "    for R in np.arange(1, 3.1, 0.1):\n",
    "        comms = louvain_communities(subgraph, weight='weight', seed=42, resolution=R)\n",
    "        mod = nx.algorithms.community.modularity(subgraph, comms, weight='weight')\n",
    "        if mod > best_mod:\n",
    "            best_mod = mod\n",
    "            best_R = R\n",
    "\n",
    "    # detect sub-communities with higher resolution for finer granularity\n",
    "    sub_communities = louvain_communities(subgraph, weight='weight', seed=42, resolution=best_R)\n",
    "    sub_modularity = nx.algorithms.community.modularity(subgraph, sub_communities, weight='weight')\n",
    "    \n",
    "    print(f\"  Found {len(sub_communities)} sub-communities (modularity: {sub_modularity:.3f})\\n\")\n",
    "    \n",
    "    # sort sub-communities by size\n",
    "    sorted_subcoms = sorted(enumerate(sub_communities), key=lambda x: len(x[1]), reverse=True)\n",
    "    \n",
    "    # iterate over sub-communities\n",
    "    for sub_idx, (original_idx, subcom) in enumerate(sorted_subcoms):\n",
    "        subcom_id = f\"{main_comm_id}.{sub_idx}\"\n",
    "        process_subcommunity(subcom, subcom_id)"
   ]
  },
  {
   "cell_type": "markdown",
   "id": "4eb62573",
   "metadata": {},
   "source": [
    "<h1>4. Graph plot</h1>"
   ]
  },
  {
   "cell_type": "code",
   "execution_count": null,
   "id": "4d5bffb9",
   "metadata": {},
   "outputs": [
    {
     "ename": "ValueError",
     "evalue": "Mime type rendering requires nbformat>=4.2.0 but it is not installed",
     "output_type": "error",
     "traceback": [
      "\u001b[31m---------------------------------------------------------------------------\u001b[39m",
      "\u001b[31mValueError\u001b[39m                                Traceback (most recent call last)",
      "\u001b[36mCell\u001b[39m\u001b[36m \u001b[39m\u001b[32mIn[57]\u001b[39m\u001b[32m, line 95\u001b[39m\n\u001b[32m     79\u001b[39m \u001b[38;5;66;03m# Build figure\u001b[39;00m\n\u001b[32m     80\u001b[39m fig = go.Figure(\n\u001b[32m     81\u001b[39m     data=[edge_trace, node_trace],\n\u001b[32m     82\u001b[39m     layout=go.Layout(\n\u001b[32m   (...)\u001b[39m\u001b[32m     93\u001b[39m     )\n\u001b[32m     94\u001b[39m )\n\u001b[32m---> \u001b[39m\u001b[32m95\u001b[39m \u001b[43mfig\u001b[49m\u001b[43m.\u001b[49m\u001b[43mshow\u001b[49m\u001b[43m(\u001b[49m\u001b[43m)\u001b[49m\n\u001b[32m     97\u001b[39m \u001b[38;5;28mprint\u001b[39m(\u001b[33m\"\u001b[39m\u001b[38;5;130;01m\\n\u001b[39;00m\u001b[33mVisualization Notes:\u001b[39m\u001b[33m\"\u001b[39m)\n\u001b[32m     98\u001b[39m \u001b[38;5;28mprint\u001b[39m(\u001b[33m\"\u001b[39m\u001b[33m- Node size represents degree centrality\u001b[39m\u001b[33m\"\u001b[39m)\n",
      "\u001b[36mFile \u001b[39m\u001b[32mc:\\Users\\patri\\Desktop\\code\\NetworkAnalysis\\.venv\\Lib\\site-packages\\plotly\\basedatatypes.py:3420\u001b[39m, in \u001b[36mBaseFigure.show\u001b[39m\u001b[34m(self, *args, **kwargs)\u001b[39m\n\u001b[32m   3387\u001b[39m \u001b[38;5;250m\u001b[39m\u001b[33;03m\"\"\"\u001b[39;00m\n\u001b[32m   3388\u001b[39m \u001b[33;03mShow a figure using either the default renderer(s) or the renderer(s)\u001b[39;00m\n\u001b[32m   3389\u001b[39m \u001b[33;03mspecified by the renderer argument\u001b[39;00m\n\u001b[32m   (...)\u001b[39m\u001b[32m   3416\u001b[39m \u001b[33;03mNone\u001b[39;00m\n\u001b[32m   3417\u001b[39m \u001b[33;03m\"\"\"\u001b[39;00m\n\u001b[32m   3418\u001b[39m \u001b[38;5;28;01mimport\u001b[39;00m\u001b[38;5;250m \u001b[39m\u001b[34;01mplotly\u001b[39;00m\u001b[34;01m.\u001b[39;00m\u001b[34;01mio\u001b[39;00m\u001b[38;5;250m \u001b[39m\u001b[38;5;28;01mas\u001b[39;00m\u001b[38;5;250m \u001b[39m\u001b[34;01mpio\u001b[39;00m\n\u001b[32m-> \u001b[39m\u001b[32m3420\u001b[39m \u001b[38;5;28;01mreturn\u001b[39;00m \u001b[43mpio\u001b[49m\u001b[43m.\u001b[49m\u001b[43mshow\u001b[49m\u001b[43m(\u001b[49m\u001b[38;5;28;43mself\u001b[39;49m\u001b[43m,\u001b[49m\u001b[43m \u001b[49m\u001b[43m*\u001b[49m\u001b[43margs\u001b[49m\u001b[43m,\u001b[49m\u001b[43m \u001b[49m\u001b[43m*\u001b[49m\u001b[43m*\u001b[49m\u001b[43mkwargs\u001b[49m\u001b[43m)\u001b[49m\n",
      "\u001b[36mFile \u001b[39m\u001b[32mc:\\Users\\patri\\Desktop\\code\\NetworkAnalysis\\.venv\\Lib\\site-packages\\plotly\\io\\_renderers.py:415\u001b[39m, in \u001b[36mshow\u001b[39m\u001b[34m(fig, renderer, validate, **kwargs)\u001b[39m\n\u001b[32m    410\u001b[39m     \u001b[38;5;28;01mraise\u001b[39;00m \u001b[38;5;167;01mValueError\u001b[39;00m(\n\u001b[32m    411\u001b[39m         \u001b[33m\"\u001b[39m\u001b[33mMime type rendering requires ipython but it is not installed\u001b[39m\u001b[33m\"\u001b[39m\n\u001b[32m    412\u001b[39m     )\n\u001b[32m    414\u001b[39m \u001b[38;5;28;01mif\u001b[39;00m \u001b[38;5;129;01mnot\u001b[39;00m nbformat \u001b[38;5;129;01mor\u001b[39;00m Version(nbformat.__version__) < Version(\u001b[33m\"\u001b[39m\u001b[33m4.2.0\u001b[39m\u001b[33m\"\u001b[39m):\n\u001b[32m--> \u001b[39m\u001b[32m415\u001b[39m     \u001b[38;5;28;01mraise\u001b[39;00m \u001b[38;5;167;01mValueError\u001b[39;00m(\n\u001b[32m    416\u001b[39m         \u001b[33m\"\u001b[39m\u001b[33mMime type rendering requires nbformat>=4.2.0 but it is not installed\u001b[39m\u001b[33m\"\u001b[39m\n\u001b[32m    417\u001b[39m     )\n\u001b[32m    419\u001b[39m display_jupyter_version_warnings()\n\u001b[32m    421\u001b[39m ipython_display.display(bundle, raw=\u001b[38;5;28;01mTrue\u001b[39;00m)\n",
      "\u001b[31mValueError\u001b[39m: Mime type rendering requires nbformat>=4.2.0 but it is not installed"
     ]
    }
   ],
   "source": [
    "# Add node attributes\n",
    "nx.set_node_attributes(G, degree_centrality, 'degree_centrality')\n",
    "nx.set_node_attributes(G, betweenness_centrality, 'betweenness_centrality')\n",
    "nx.set_node_attributes(G, main_community_map, 'main_community')\n",
    "nx.set_node_attributes(G, subcommunity_map, 'subcommunity')\n",
    "\n",
    "# Layout\n",
    "pos = nx.spring_layout(G, seed=42, k=0.5, iterations=50)\n",
    "\n",
    "# Prepare edge traces\n",
    "edge_x, edge_y = [], []\n",
    "for u, v in G.edges():\n",
    "    x0, y0 = pos[u]\n",
    "    x1, y1 = pos[v]\n",
    "    edge_x += [x0, x1, None]\n",
    "    edge_y += [y0, y1, None]\n",
    "\n",
    "edge_trace = go.Scatter(\n",
    "    x=edge_x, y=edge_y,\n",
    "    line=dict(width=0.5, color='#ddd'),\n",
    "    hoverinfo='none',\n",
    "    mode='lines'\n",
    ")\n",
    "\n",
    "# Node coordinates and attributes\n",
    "node_x, node_y = [], []\n",
    "node_text = []\n",
    "node_color = []\n",
    "node_size = []\n",
    "\n",
    "# Extended color palette for main communities\n",
    "palette = ['#1f77b4', '#ff7f0e', '#2ca02c', '#d62728', '#9467bd', \n",
    "           '#8c564b', '#e377c2', '#7f7f7f', '#bcbd22', '#17becf']\n",
    "\n",
    "for node in G.nodes():\n",
    "    x, y = pos[node]\n",
    "    node_x.append(x)\n",
    "    node_y.append(y)\n",
    "    \n",
    "    deg_cent = degree_centrality[node]\n",
    "    betw_cent = betweenness_centrality[node]\n",
    "    main_comm = main_community_map[node]\n",
    "    sub_comm = subcommunity_map[node]\n",
    "    \n",
    "    comm_color = palette[main_comm % len(palette)]\n",
    "    node_color.append(comm_color)\n",
    "    \n",
    "    # Size nodes by degree centrality\n",
    "    node_size.append(10 + deg_cent * 50)\n",
    "    \n",
    "    # Hover text\n",
    "    neighbors = list(G.neighbors(node))\n",
    "    neighbor_comms = set(main_community_map[n] for n in neighbors)\n",
    "    \n",
    "    hover_text = (\n",
    "        f\"<b>{node}</b><br>\"\n",
    "        f\"Degree Centrality: {deg_cent:.4f}<br>\"\n",
    "        f\"Betweenness Centrality: {betw_cent:.4f}<br>\"\n",
    "        f\"Main Community: {main_comm}<br>\"\n",
    "        f\"Sub-community: {sub_comm}<br>\"\n",
    "        f\"Connections: {len(neighbors)}<br>\"\n",
    "        f\"Bridges {len(neighbor_comms)} main communities\"\n",
    "    )\n",
    "    node_text.append(hover_text)\n",
    "\n",
    "node_trace = go.Scatter(\n",
    "    x=node_x, y=node_y,\n",
    "    mode='markers',\n",
    "    hoverinfo='text',\n",
    "    marker=dict(\n",
    "        showscale=False,\n",
    "        color=node_color,\n",
    "        size=node_size,\n",
    "        line=dict(width=1, color='white')\n",
    "    ),\n",
    "    hovertext=node_text,\n",
    ")\n",
    "\n",
    "# Build figure\n",
    "fig = go.Figure(\n",
    "    data=[edge_trace, node_trace],\n",
    "    layout=go.Layout(\n",
    "        title=dict(\n",
    "            text=f'Under-30 Mortality Disease Co-occurrence Network<br><sub>{len(main_communities)} main communities, hierarchical sub-structure (modularity: {modularity:.3f})</sub>',\n",
    "            font=dict(size=16)\n",
    "        ),\n",
    "        showlegend=False,\n",
    "        hovermode='closest',\n",
    "        margin=dict(b=20, l=5, r=5, t=60),\n",
    "        xaxis=dict(showgrid=False, zeroline=False, showticklabels=False),\n",
    "        yaxis=dict(showgrid=False, zeroline=False, showticklabels=False),\n",
    "        plot_bgcolor='white'\n",
    "    )\n",
    ")\n",
    "fig.show()\n",
    "\n",
    "print(\"\\nVisualization Notes:\")\n",
    "print(\"- Node size represents degree centrality\")\n",
    "print(\"- Node color represents main community membership\")\n",
    "print(\"- Hover over nodes to see both main community and sub-community\")\n",
    "print(\"- Sub-communities provide finer clinical granularity for analysis\")"
   ]
  }
 ],
 "metadata": {
  "kernelspec": {
   "display_name": ".venv (3.12.1)",
   "language": "python",
   "name": "python3"
  },
  "language_info": {
   "codemirror_mode": {
    "name": "ipython",
    "version": 3
   },
   "file_extension": ".py",
   "mimetype": "text/x-python",
   "name": "python",
   "nbconvert_exporter": "python",
   "pygments_lexer": "ipython3",
   "version": "3.12.1"
  }
 },
 "nbformat": 4,
 "nbformat_minor": 5
}
